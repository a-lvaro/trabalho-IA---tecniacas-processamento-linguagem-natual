{
 "cells": [
  {
   "attachments": {},
   "cell_type": "markdown",
   "metadata": {},
   "source": [
    "# extração do texto do PDF"
   ]
  },
  {
   "cell_type": "code",
   "execution_count": 2,
   "metadata": {},
   "outputs": [],
   "source": [
    "import PyPDF2\n",
    "import nltk"
   ]
  },
  {
   "cell_type": "code",
   "execution_count": 3,
   "metadata": {},
   "outputs": [
    {
     "name": "stderr",
     "output_type": "stream",
     "text": [
      "[nltk_data] Downloading package stopwords to\n",
      "[nltk_data]     C:\\Users\\rafae\\AppData\\Roaming\\nltk_data...\n",
      "[nltk_data]   Package stopwords is already up-to-date!\n"
     ]
    }
   ],
   "source": [
    "#Listagem de palavras frequentes que não alteram o significado do texto (em ingles)\n",
    "nltk.download('stopwords')\n",
    "from nltk.corpus import stopwords\n",
    "irrelevantes = stopwords.words('english')"
   ]
  },
  {
   "cell_type": "code",
   "execution_count": 4,
   "metadata": {},
   "outputs": [
    {
     "name": "stderr",
     "output_type": "stream",
     "text": [
      "[nltk_data] Downloading package wordnet to\n",
      "[nltk_data]     C:\\Users\\rafae\\AppData\\Roaming\\nltk_data...\n",
      "[nltk_data]   Package wordnet is already up-to-date!\n",
      "[nltk_data] Downloading package omw-1.4 to\n",
      "[nltk_data]     C:\\Users\\rafae\\AppData\\Roaming\\nltk_data...\n",
      "[nltk_data]   Package omw-1.4 is already up-to-date!\n"
     ]
    }
   ],
   "source": [
    "#tratamento de flexão de palavras por lematização\n",
    "tk = nltk.tokenize.WhitespaceTokenizer()\n",
    "nltk.download('wordnet')\n",
    "nltk.download('omw-1.4')\n",
    "lmt = nltk.stem.WordNetLemmatizer()\n",
    "\n",
    "#A biblioteca nltk não tem dados para lematização em PT ;-;\n",
    "def lematize_text(text):\n",
    "    lem_words = list()\n",
    "    for word in tk.tokenize(text):\n",
    "        lem_words.append(lmt.lemmatize(word))\n",
    "    return lem_words\n"
   ]
  },
  {
   "cell_type": "code",
   "execution_count": 5,
   "metadata": {},
   "outputs": [],
   "source": [
    "\n",
    "reader = PyPDF2.PdfReader('ArquivosEN/1608.06902.pdf')"
   ]
  },
  {
   "cell_type": "code",
   "execution_count": 6,
   "metadata": {},
   "outputs": [
    {
     "name": "stdout",
     "output_type": "stream",
     "text": [
      "recurrent neural networks with limited numerical precision\n",
      "joachim ott\u0003, zhouhan linz,ying zhangz, shih-chii liu\u0003, yoshua bengiozy\n",
      "\u0003institute of neuroinformatics, university of zurich and eth zurich\n",
      "ottj@ethz.ch, shih@ini.ethz.ch\n",
      "zdépartement d’informatique et de recherche opérationnelle, université de montréal\n",
      "ycifar senior fellow\n",
      "{zhouhan.lin, ying.zhang}@umontreal.ca\n",
      "abstract\n",
      "recurrent neural networks (rnns) produce state-of-art performance on many machine learning\n",
      "tasks but their demand on resources in terms of memory and computational power are often\n",
      "high. therefore, there is a great interest in optimizing the computations performed with these\n",
      "models especially when considering development of specialized low-power hardware for deep\n",
      "networks. one way of reducing the computational needs is to limit the numerical precision of\n",
      "the network weights and biases. this has led to different proposed rounding methods which\n",
      "have been applied so far to only convolutional neural networks and fully-connected networks.\n",
      "this paper addresses the question of how to best reduce weight precision during training in the\n",
      "case of rnns. we present results from the use of different stochastic and deterministic reduced\n",
      "precision training methods applied to three major rnn types which are then tested on several\n",
      "datasets. the results show that the weight binarization methods do not work with the rnns.\n",
      "however, the stochastic and deterministic ternarization, and pow2-ternarization methods gave\n",
      "rise to low-precision rnns that produce similar and even higher accuracy on certain datasets\n",
      "therefore providing a path towards training more efﬁcient implementations of rnns in specialized\n",
      "hardware.\n",
      "1 introduction\n",
      "a recurrent neural network (rnn) is a speciﬁc type of neural network which is able to process input and\n",
      "output sequences of variable length. because of this nature, rnns are suitable for sequence modeling. various\n",
      "rnn architectures have been proposed in recent years, based on different forms of non-linearity, such as the\n",
      "gated recurrent unit (gru) [cho et al., 2014] and long-short term memory (lstm) [hochreiter et al.,\n",
      "1997]. they have enabled new levels of performance in many tasks such as speech recognition [amodei et al.,\n",
      "2015][chan et al., 2015], machine translation [devlin et al., 2014][chung et al., 2016][sutskever et al., 2014],\n",
      "or even video games [mnih et al., 2015] and go[silver et al., 2016].\n",
      "compared to standard feed-forward networks, rnns often take longer to train and are more demanding\n",
      "in memory and computational power. for example, it can take weeks to train models for state-of-the-art\n",
      "machine translation and speech recognition. thus it is of vital importance to accelerate computation and\n",
      "reduce training time of such networks. on the other hand, even at run-time, these models require too much in\n",
      "terms of computational resources if we want to deploy a model onto low-power embedded hardware devices.\n",
      "increasingly, dedicated deep learning hardware platforms including fpgas [farabet et al., 2011] and custom\n",
      "chips [sim et al., 2016] are reporting higher computational efﬁciencies of up to tera operations per second per\n",
      "watt (tops/w). these platforms are targeted at deep cnns. if low-precision rnns are able to report the\n",
      "same performance, then the savings in the reduction of multipliers (the circuits that take the space and energy)\n",
      "and memory storage of the weights would be even larger as the bit precision of the multipliers needed for the 2\n",
      "to 3 gates of the gated rnn units can be reduced or the multipliers removed completely.\n",
      "1arxiv:1608.06902v2  [cs.ne]  26 feb 2017\n"
     ]
    }
   ],
   "source": [
    "#Lendo uma pagina\n",
    "textin = reader.pages[0].extract_text()\n",
    "textin = textin.lower()\n",
    "print(textin)"
   ]
  },
  {
   "cell_type": "code",
   "execution_count": 7,
   "metadata": {},
   "outputs": [
    {
     "name": "stdout",
     "output_type": "stream",
     "text": [
      "541\n",
      "['recurrent', 'neural', 'network', 'with', 'limited', 'numerical', 'precision', 'joachim', 'ott\\x03,', 'zhouhan', 'linz,ying', 'zhangz,', 'shih-chii', 'liu\\x03,', 'yoshua', 'bengiozy', '\\x03institute', 'of', 'neuroinformatics,', 'university', 'of', 'zurich', 'and', 'eth', 'zurich', 'ottj@ethz.ch,', 'shih@ini.ethz.ch', 'zdépartement', 'd’informatique', 'et', 'de', 'recherche', 'opérationnelle,', 'université', 'de', 'montréal', 'ycifar', 'senior', 'fellow', '{zhouhan.lin,', 'ying.zhang}@umontreal.ca', 'abstract', 'recurrent', 'neural', 'network', '(rnns)', 'produce', 'state-of-art', 'performance', 'on', 'many', 'machine', 'learning', 'task', 'but', 'their', 'demand', 'on', 'resource', 'in', 'term', 'of', 'memory', 'and', 'computational', 'power', 'are', 'often', 'high.', 'therefore,', 'there', 'is', 'a', 'great', 'interest', 'in', 'optimizing', 'the', 'computation', 'performed', 'with', 'these', 'model', 'especially', 'when', 'considering', 'development', 'of', 'specialized', 'low-power', 'hardware', 'for', 'deep', 'networks.', 'one', 'way', 'of', 'reducing', 'the', 'computational', 'need', 'is', 'to', 'limit', 'the', 'numerical', 'precision', 'of', 'the', 'network', 'weight', 'and', 'biases.', 'this', 'ha', 'led', 'to', 'different', 'proposed', 'rounding', 'method', 'which', 'have', 'been', 'applied', 'so', 'far', 'to', 'only', 'convolutional', 'neural', 'network', 'and', 'fully-connected', 'networks.', 'this', 'paper', 'address', 'the', 'question', 'of', 'how', 'to', 'best', 'reduce', 'weight', 'precision', 'during', 'training', 'in', 'the', 'case', 'of', 'rnns.', 'we', 'present', 'result', 'from', 'the', 'use', 'of', 'different', 'stochastic', 'and', 'deterministic', 'reduced', 'precision', 'training', 'method', 'applied', 'to', 'three', 'major', 'rnn', 'type', 'which', 'are', 'then', 'tested', 'on', 'several', 'datasets.', 'the', 'result', 'show', 'that', 'the', 'weight', 'binarization', 'method', 'do', 'not', 'work', 'with', 'the', 'rnns.', 'however,', 'the', 'stochastic', 'and', 'deterministic', 'ternarization,', 'and', 'pow2-ternarization', 'method', 'gave', 'rise', 'to', 'low-precision', 'rnns', 'that', 'produce', 'similar', 'and', 'even', 'higher', 'accuracy', 'on', 'certain', 'datasets', 'therefore', 'providing', 'a', 'path', 'towards', 'training', 'more', 'efﬁcient', 'implementation', 'of', 'rnns', 'in', 'specialized', 'hardware.', '1', 'introduction', 'a', 'recurrent', 'neural', 'network', '(rnn)', 'is', 'a', 'speciﬁc', 'type', 'of', 'neural', 'network', 'which', 'is', 'able', 'to', 'process', 'input', 'and', 'output', 'sequence', 'of', 'variable', 'length.', 'because', 'of', 'this', 'nature,', 'rnns', 'are', 'suitable', 'for', 'sequence', 'modeling.', 'various', 'rnn', 'architecture', 'have', 'been', 'proposed', 'in', 'recent', 'years,', 'based', 'on', 'different', 'form', 'of', 'non-linearity,', 'such', 'a', 'the', 'gated', 'recurrent', 'unit', '(gru)', '[cho', 'et', 'al.,', '2014]', 'and', 'long-short', 'term', 'memory', '(lstm)', '[hochreiter', 'et', 'al.,', '1997].', 'they', 'have', 'enabled', 'new', 'level', 'of', 'performance', 'in', 'many', 'task', 'such', 'a', 'speech', 'recognition', '[amodei', 'et', 'al.,', '2015][chan', 'et', 'al.,', '2015],', 'machine', 'translation', '[devlin', 'et', 'al.,', '2014][chung', 'et', 'al.,', '2016][sutskever', 'et', 'al.,', '2014],', 'or', 'even', 'video', 'game', '[mnih', 'et', 'al.,', '2015]', 'and', 'go[silver', 'et', 'al.,', '2016].', 'compared', 'to', 'standard', 'feed-forward', 'networks,', 'rnns', 'often', 'take', 'longer', 'to', 'train', 'and', 'are', 'more', 'demanding', 'in', 'memory', 'and', 'computational', 'power.', 'for', 'example,', 'it', 'can', 'take', 'week', 'to', 'train', 'model', 'for', 'state-of-the-art', 'machine', 'translation', 'and', 'speech', 'recognition.', 'thus', 'it', 'is', 'of', 'vital', 'importance', 'to', 'accelerate', 'computation', 'and', 'reduce', 'training', 'time', 'of', 'such', 'networks.', 'on', 'the', 'other', 'hand,', 'even', 'at', 'run-time,', 'these', 'model', 'require', 'too', 'much', 'in', 'term', 'of', 'computational', 'resource', 'if', 'we', 'want', 'to', 'deploy', 'a', 'model', 'onto', 'low-power', 'embedded', 'hardware', 'devices.', 'increasingly,', 'dedicated', 'deep', 'learning', 'hardware', 'platform', 'including', 'fpgas', '[farabet', 'et', 'al.,', '2011]', 'and', 'custom', 'chip', '[sim', 'et', 'al.,', '2016]', 'are', 'reporting', 'higher', 'computational', 'efﬁciencies', 'of', 'up', 'to', 'tera', 'operation', 'per', 'second', 'per', 'watt', '(tops/w).', 'these', 'platform', 'are', 'targeted', 'at', 'deep', 'cnns.', 'if', 'low-precision', 'rnns', 'are', 'able', 'to', 'report', 'the', 'same', 'performance,', 'then', 'the', 'saving', 'in', 'the', 'reduction', 'of', 'multiplier', '(the', 'circuit', 'that', 'take', 'the', 'space', 'and', 'energy)', 'and', 'memory', 'storage', 'of', 'the', 'weight', 'would', 'be', 'even', 'larger', 'a', 'the', 'bit', 'precision', 'of', 'the', 'multiplier', 'needed', 'for', 'the', '2', 'to', '3', 'gate', 'of', 'the', 'gated', 'rnn', 'unit', 'can', 'be', 'reduced', 'or', 'the', 'multiplier', 'removed', 'completely.', '1arxiv:1608.06902v2', '[cs.ne]', '26', 'feb', '2017']\n"
     ]
    }
   ],
   "source": [
    "# Tem que deixar as letras em minusculo ;-;\n",
    "lematizedTXT = lematize_text(textin)\n",
    "print(len(lematizedTXT))\n",
    "print(lematizedTXT)"
   ]
  },
  {
   "cell_type": "code",
   "execution_count": 34,
   "metadata": {},
   "outputs": [],
   "source": [
    "#Removendo elementos ruins - função bem custosa, deve ter alguma que faz isso mais facil\n",
    "for word in lematizedTXT:\n",
    "    for stopword in irrelevantes:\n",
    "        if word == stopword:\n",
    "            lematizedTXT.remove(word)\n"
   ]
  },
  {
   "cell_type": "code",
   "execution_count": 48,
   "metadata": {},
   "outputs": [],
   "source": [
    "# Tirar o ponto do final do bagulho\n",
    "punctuation = [\".\", \",\", \"!\", \"?\", \";\", \":\"]\n",
    "for word in range(0, len(lematizedTXT)):\n",
    "    if lematizedTXT[word][-1] in punctuation:\n",
    "        lematizedTXT[word] = lematizedTXT[word][:-1]"
   ]
  },
  {
   "cell_type": "code",
   "execution_count": 49,
   "metadata": {},
   "outputs": [
    {
     "name": "stdout",
     "output_type": "stream",
     "text": [
      "376\n",
      "['\\x03institute', '(gru)', '(lstm)', '(rnn)', '(rnns)', '(the', '(tops/w)', '1', '1997]', '1arxiv:1608.06902v2', '2', '2011]', '2014]', '2014]', '2014][chung', '2015]', '2015]', '2015][chan', '2016]', '2016]', '2016][sutskever', '2017', '26', '3', '[amodei', '[cho', '[cs.ne]', '[devlin', '[farabet', '[hochreiter', '[mnih', '[sim', 'a', 'able', 'able', 'abstract', 'accelerate', 'accuracy', 'address', 'al', 'al', 'al', 'al', 'al', 'al', 'al', 'al', 'al', 'al', 'al', 'applied', 'applied', 'architecture', 'are', 'based', 'been', 'bengiozy', 'best', 'biases', 'binarization', 'bit', 'case', 'certain', 'chip', 'circuit', 'cnns', 'compared', 'completely', 'computation', 'computation', 'computational', 'computational', 'computational', 'computational', 'computational', 'considering', 'convolutional', 'custom', 'datasets', 'datasets', 'de', 'de', 'dedicated', 'deep', 'deep', 'deep', 'demand', 'demanding', 'deploy', 'deterministic', 'deterministic', 'development', 'devices', 'different', 'different', 'different', 'd’informatique', 'efﬁciencies', 'efﬁcient', 'embedded', 'enabled', 'energy)', 'especially', 'et', 'et', 'et', 'et', 'et', 'et', 'et', 'et', 'et', 'et', 'et', 'et', 'eth', 'even', 'even', 'even', 'even', 'example', 'far', 'feb', 'feed-forward', 'fellow', 'form', 'fpgas', 'fully-connected', 'game', 'gate', 'gated', 'gated', 'gave', 'go[silver', 'great', 'ha', 'hand', 'hardware', 'hardware', 'hardware', 'hardware', 'have', 'high', 'higher', 'higher', 'however', 'implementation', 'importance', 'including', 'increasingly', 'input', 'interest', 'introduction', 'is', 'joachim', 'larger', 'learning', 'learning', 'led', 'length', 'level', 'limit', 'limited', 'linz,ying', 'liu\\x03', 'long-short', 'longer', 'low-power', 'low-power', 'low-precision', 'low-precision', 'machine', 'machine', 'machine', 'major', 'many', 'many', 'memory', 'memory', 'memory', 'memory', 'method', 'method', 'method', 'method', 'model', 'model', 'model', 'model', 'modeling', 'montréal', 'much', 'multiplier', 'multiplier', 'multiplier', 'nature', 'need', 'needed', 'network', 'network', 'network', 'network', 'network', 'network', 'networks', 'networks', 'networks', 'networks', 'neural', 'neural', 'neural', 'neural', 'neural', 'neuroinformatics', 'new', 'non-linearity', 'numerical', 'numerical', 'often', 'often', 'one', 'onto', 'operation', 'optimizing', 'opérationnelle', 'ott\\x03', 'ottj@ethz.ch', 'output', 'paper', 'path', 'per', 'per', 'performance', 'performance', 'performance', 'performed', 'platform', 'platform', 'pow2-ternarization', 'power', 'power', 'precision', 'precision', 'precision', 'precision', 'precision', 'present', 'process', 'produce', 'produce', 'proposed', 'proposed', 'providing', 'question', 'recent', 'recherche', 'recognition', 'recognition', 'recurrent', 'recurrent', 'recurrent', 'recurrent', 'reduce', 'reduce', 'reduced', 'reduced', 'reducing', 'reduction', 'removed', 'report', 'reporting', 'require', 'resource', 'resource', 'result', 'result', 'rise', 'rnn', 'rnn', 'rnn', 'rnns', 'rnns', 'rnns', 'rnns', 'rnns', 'rnns', 'rnns', 'rounding', 'run-time', 'saving', 'second', 'senior', 'sequence', 'sequence', 'several', 'shih-chii', 'shih@ini.ethz.ch', 'show', 'similar', 'space', 'specialized', 'specialized', 'speciﬁc', 'speech', 'speech', 'standard', 'state-of-art', 'state-of-the-art', 'stochastic', 'stochastic', 'storage', 'suitable', 'take', 'take', 'take', 'targeted', 'task', 'task', 'tera', 'term', 'term', 'term', 'ternarization', 'tested', 'the', 'the', 'the', 'the', 'the', 'the', 'the', 'therefore', 'therefore', 'three', 'thus', 'time', 'towards', 'train', 'train', 'training', 'training', 'training', 'training', 'translation', 'translation', 'type', 'type', 'unit', 'unit', 'university', 'université', 'use', 'variable', 'various', 'video', 'vital', 'want', 'watt', 'way', 'week', 'weight', 'weight', 'weight', 'weight', 'work', 'would', 'ycifar', 'years', 'ying.zhang}@umontreal.ca', 'yoshua', 'zdépartement', 'zhangz', 'zhouhan', 'zurich', 'zurich', '{zhouhan.lin']\n"
     ]
    }
   ],
   "source": [
    "#Deu certo, mas ainda tem palavras que precisariam ser tratadas\n",
    "print(len(lematizedTXT))\n",
    "lematizedTXT.sort()\n",
    "print(lematizedTXT)"
   ]
  },
  {
   "cell_type": "code",
   "execution_count": null,
   "metadata": {},
   "outputs": [],
   "source": [
    "#Existem caracteres estranhos (Ott\\x03,)\n",
    "#Verificar pontuação, ela pode não ser tão importante\n",
    "#Existem alguns trechos em espanhol(?)\n",
    "#Palavras compostas como low-precision\n",
    "#1arXiv:1608.06902v2 (?)"
   ]
  },
  {
   "cell_type": "code",
   "execution_count": 45,
   "metadata": {},
   "outputs": [
    {
     "name": "stdout",
     "output_type": "stream",
     "text": [
      "[12, 11, 7, 7, 6, 5, 5, 5, 4, 4]\n",
      "['et', 'al', 'rnns', 'the', 'network', 'computational', 'neural', 'precision', 'even', 'hardware']\n"
     ]
    }
   ],
   "source": [
    "#Função deu certo, mas tá feia!!!\n",
    "#Lista com os termos mais comuns e com o numero de ocorrencia\n",
    "commonTerms = [None, None, None, None, None, None, None, None, None, None]\n",
    "bestTimes = [0, 0, 0, 0, 0, 0, 0, 0, 0, 0]\n",
    "for word in range(0, len(lematizedTXT)):\n",
    "    times = lematizedTXT.count(lematizedTXT[word])\n",
    "    for i in range(0,10):\n",
    "        if lematizedTXT[word] == lematizedTXT[word-1]:\n",
    "            pass\n",
    "        elif bestTimes[i] < times:\n",
    "            bestTimes.insert(i, times)\n",
    "            commonTerms.insert(i, lematizedTXT[word])\n",
    "            bestTimes.pop()\n",
    "            commonTerms.pop()\n",
    "            break\n",
    "print(bestTimes)\n",
    "print(commonTerms)\n"
   ]
  }
 ],
 "metadata": {
  "kernelspec": {
   "display_name": "base",
   "language": "python",
   "name": "python3"
  },
  "language_info": {
   "codemirror_mode": {
    "name": "ipython",
    "version": 3
   },
   "file_extension": ".py",
   "mimetype": "text/x-python",
   "name": "python",
   "nbconvert_exporter": "python",
   "pygments_lexer": "ipython3",
   "version": "3.9.13"
  },
  "orig_nbformat": 4,
  "vscode": {
   "interpreter": {
    "hash": "2a7084dce4a57fabdb294815b03e7954449d6920124286f14e8400459bb21104"
   }
  }
 },
 "nbformat": 4,
 "nbformat_minor": 2
}
