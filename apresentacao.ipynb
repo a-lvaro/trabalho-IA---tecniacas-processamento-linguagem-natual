{
 "cells": [
  {
   "attachments": {},
   "cell_type": "markdown",
   "metadata": {},
   "source": [
    "# extração do texto do PDF"
   ]
  },
  {
   "attachments": {},
   "cell_type": "markdown",
   "metadata": {},
   "source": [
    "## inglês"
   ]
  },
  {
   "cell_type": "code",
   "execution_count": 45,
   "metadata": {},
   "outputs": [],
   "source": [
    "import PyPDF2\n",
    "import nltk\n",
    "\n",
    "from nltk.corpus import stopwords"
   ]
  },
  {
   "cell_type": "code",
   "execution_count": 46,
   "metadata": {},
   "outputs": [
    {
     "name": "stderr",
     "output_type": "stream",
     "text": [
      "[nltk_data] Downloading package stopwords to\n",
      "[nltk_data]     /Users/alvaro/nltk_data...\n",
      "[nltk_data]   Package stopwords is already up-to-date!\n"
     ]
    }
   ],
   "source": [
    "#Listagem de palavras frequentes que não alteram o significado do texto (em ingles)\n",
    "nltk.download('stopwords')\n",
    "irrelevantes = stopwords.words('english')"
   ]
  },
  {
   "cell_type": "code",
   "execution_count": 47,
   "metadata": {},
   "outputs": [
    {
     "name": "stderr",
     "output_type": "stream",
     "text": [
      "[nltk_data] Downloading package wordnet to /Users/alvaro/nltk_data...\n",
      "[nltk_data]   Package wordnet is already up-to-date!\n",
      "[nltk_data] Downloading package omw-1.4 to /Users/alvaro/nltk_data...\n",
      "[nltk_data]   Package omw-1.4 is already up-to-date!\n"
     ]
    }
   ],
   "source": [
    "#tratamento de flexão de palavras por lematização\n",
    "tk = nltk.tokenize.WhitespaceTokenizer()\n",
    "nltk.download('wordnet')\n",
    "nltk.download('omw-1.4')\n",
    "lmt = nltk.stem.WordNetLemmatizer()\n",
    "\n",
    "#A biblioteca nltk não tem dados para lematização em PT\n",
    "def lematize_text(text):\n",
    "    lem_words = list()\n",
    "    for word in tk.tokenize(text):\n",
    "        lem_words.append(lmt.lemmatize(word))\n",
    "    return lem_words\n"
   ]
  },
  {
   "cell_type": "code",
   "execution_count": 48,
   "metadata": {},
   "outputs": [],
   "source": [
    "reader = PyPDF2.PdfReader('ArquivosEN/1608.06902.pdf')"
   ]
  },
  {
   "cell_type": "code",
   "execution_count": 49,
   "metadata": {},
   "outputs": [
    {
     "data": {
      "text/plain": [
       "11"
      ]
     },
     "execution_count": 49,
     "metadata": {},
     "output_type": "execute_result"
    }
   ],
   "source": [
    "len(reader.pages)"
   ]
  },
  {
   "cell_type": "code",
   "execution_count": 50,
   "metadata": {},
   "outputs": [],
   "source": [
    "textin = reader.pages[0].extract_text()"
   ]
  },
  {
   "cell_type": "code",
   "execution_count": 51,
   "metadata": {},
   "outputs": [
    {
     "name": "stdout",
     "output_type": "stream",
     "text": [
      "541\n"
     ]
    }
   ],
   "source": [
    "lematizedTXT = lematize_text(textin)\n",
    "print(len(lematizedTXT))"
   ]
  },
  {
   "cell_type": "code",
   "execution_count": 53,
   "metadata": {},
   "outputs": [],
   "source": [
    "#Removendo elementos ruins - função bem custosa, deve ter alguma que faz isso mais facil\n",
    "for word in lematizedTXT:\n",
    "    for stopword in irrelevantes:\n",
    "        if word == stopword:\n",
    "            lematizedTXT.remove(word)\n"
   ]
  },
  {
   "cell_type": "code",
   "execution_count": 54,
   "metadata": {},
   "outputs": [
    {
     "name": "stdout",
     "output_type": "stream",
     "text": [
      "380\n",
      "['Recurrent', 'Neural', 'Networks', 'With', 'Limited', 'Numerical', 'Precision', 'Joachim', 'Ott\\x03,', 'Zhouhan', 'Linz,Ying', 'Zhangz,', 'Shih-Chii', 'Liu\\x03,', 'Yoshua', 'Bengiozy', '\\x03Institute', 'Neuroinformatics,', 'University', 'Zurich', 'ETH', 'Zurich', 'ottj@ethz.ch,', 'shih@ini.ethz.ch', 'zDépartement', 'd’informatique', 'et', 'de', 'recherche', 'opérationnelle,', 'Université', 'de', 'Montréal', 'yCIFAR', 'Senior', 'Fellow', '{zhouhan.lin,', 'ying.zhang}@umontreal.ca', 'Abstract', 'Recurrent', 'Neural', 'Networks', '(RNNs)', 'produce', 'state-of-art', 'performance', 'many', 'machine', 'learning', 'task', 'demand', 'resource', 'term', 'memory', 'computational', 'power', 'often', 'high.', 'Therefore,', 'great', 'interest', 'optimizing', 'computation', 'performed', 'model', 'especially', 'considering', 'development', 'specialized', 'low-power', 'hardware', 'deep', 'networks.', 'One', 'way', 'reducing', 'computational', 'need', 'limit', 'numerical', 'precision', 'network', 'weight', 'biases.', 'This', 'ha', 'led', 'different', 'proposed', 'rounding', 'method', 'applied', 'far', 'Convolutional', 'Neural', 'Networks', 'Fully-Connected', 'Networks.', 'This', 'paper', 'address', 'question', 'best', 'reduce', 'weight', 'precision', 'training', 'case', 'RNNs.', 'We', 'present', 'result', 'use', 'different', 'stochastic', 'deterministic', 'reduced', 'precision', 'training', 'method', 'applied', 'three', 'major', 'RNN', 'type', 'tested', 'several', 'datasets.', 'The', 'result', 'show', 'weight', 'binarization', 'method', 'work', 'RNNs.', 'However,', 'stochastic', 'deterministic', 'ternarization,', 'pow2-ternarization', 'method', 'gave', 'rise', 'low-precision', 'RNNs', 'produce', 'similar', 'even', 'higher', 'accuracy', 'certain', 'datasets', 'therefore', 'providing', 'path', 'towards', 'training', 'efﬁcient', 'implementation', 'RNNs', 'specialized', 'hardware.', '1', 'Introduction', 'A', 'Recurrent', 'Neural', 'Network', '(RNN)', 'speciﬁc', 'type', 'neural', 'network', 'able', 'process', 'input', 'output', 'sequence', 'variable', 'length.', 'Because', 'nature,', 'RNNs', 'suitable', 'sequence', 'modeling.', 'Various', 'RNN', 'architecture', 'proposed', 'recent', 'years,', 'based', 'different', 'form', 'non-linearity,', 'Gated', 'Recurrent', 'Unit', '(GRU)', '[Cho', 'et', 'al.,', '2014]', 'Long-Short', 'Term', 'Memory', '(LSTM)', '[Hochreiter', 'et', 'al.,', '1997].', 'They', 'enabled', 'new', 'level', 'performance', 'many', 'task', 'speech', 'recognition', '[Amodei', 'et', 'al.,', '2015][Chan', 'et', 'al.,', '2015],', 'machine', 'translation', '[Devlin', 'et', 'al.,', '2014][Chung', 'et', 'al.,', '2016][Sutskever', 'et', 'al.,', '2014],', 'even', 'video', 'game', '[Mnih', 'et', 'al.,', '2015]', 'Go[Silver', 'et', 'al.,', '2016].', 'Compared', 'standard', 'feed-forward', 'networks,', 'RNNs', 'often', 'take', 'longer', 'train', 'demanding', 'memory', 'computational', 'power.', 'For', 'example,', 'take', 'week', 'train', 'model', 'state-of-the-art', 'machine', 'translation', 'speech', 'recognition.', 'Thus', 'vital', 'importance', 'accelerate', 'computation', 'reduce', 'training', 'time', 'networks.', 'On', 'other', 'hand,', 'even', 'run-time,', 'model', 'require', 'much', 'term', 'computational', 'resource', 'want', 'deploy', 'model', 'onto', 'low-power', 'embedded', 'hardware', 'devices.', 'Increasingly,', 'dedicated', 'deep', 'learning', 'hardware', 'platform', 'including', 'FPGAs', '[Farabet', 'et', 'al.,', '2011]', 'custom', 'chip', '[Sim', 'et', 'al.,', '2016]', 'reporting', 'higher', 'computational', 'efﬁciencies', 'tera', 'operation', 'per', 'second', 'per', 'watt', '(TOPS/W).', 'These', 'platform', 'targeted', 'deep', 'CNNs.', 'If', 'low-precision', 'RNNs', 'able', 'report', 'same', 'performance,', 'saving', 'reduction', 'multiplier', '(the', 'circuit', 'take', 'space', 'energy)', 'memory', 'storage', 'weight', 'would', 'even', 'larger', 'bit', 'precision', 'multiplier', 'needed', '2', '3', 'gate', 'gated', 'RNN', 'unit', 'be', 'reduced', 'the', 'multiplier', 'removed', 'completely.', '1arXiv:1608.06902v2', '[cs.NE]', '26', 'Feb', '2017']\n"
     ]
    }
   ],
   "source": [
    "#Deu certo, mas ainda tem palavras que precisariam ser tratadas\n",
    "print(len(lematizedTXT))\n",
    "print(lematizedTXT)"
   ]
  },
  {
   "cell_type": "code",
   "execution_count": null,
   "metadata": {},
   "outputs": [],
   "source": [
    "#Existem caracteres estranhos (Ott\\x03,)\n",
    "#Verificar pontuação, ela pode não ser tão importante\n",
    "#Existem alguns trechos em espanhol(?)\n",
    "#Palavras compostas como low-precision\n",
    "#1arXiv:1608.06902v2 (?)"
   ]
  },
  {
   "attachments": {},
   "cell_type": "markdown",
   "metadata": {},
   "source": [
    "## Português"
   ]
  },
  {
   "cell_type": "code",
   "execution_count": 21,
   "metadata": {},
   "outputs": [],
   "source": [
    "import PyPDF2\n",
    "import nltk\n",
    "from nltk.corpus import wordnet, stopwords\n",
    "from nltk.stem import RSLPStemmer"
   ]
  },
  {
   "cell_type": "code",
   "execution_count": 22,
   "metadata": {},
   "outputs": [
    {
     "name": "stderr",
     "output_type": "stream",
     "text": [
      "[nltk_data] Downloading package punkt to /Users/alvaro/nltk_data...\n",
      "[nltk_data]   Package punkt is already up-to-date!\n",
      "[nltk_data] Downloading package averaged_perceptron_tagger to\n",
      "[nltk_data]     /Users/alvaro/nltk_data...\n",
      "[nltk_data]   Package averaged_perceptron_tagger is already up-to-\n",
      "[nltk_data]       date!\n",
      "[nltk_data] Downloading package floresta to /Users/alvaro/nltk_data...\n",
      "[nltk_data]   Package floresta is already up-to-date!\n",
      "[nltk_data] Downloading package stopwords to\n",
      "[nltk_data]     /Users/alvaro/nltk_data...\n",
      "[nltk_data]   Package stopwords is already up-to-date!\n",
      "[nltk_data] Downloading package rslp to /Users/alvaro/nltk_data...\n",
      "[nltk_data]   Package rslp is already up-to-date!\n"
     ]
    },
    {
     "data": {
      "text/plain": [
       "True"
      ]
     },
     "execution_count": 22,
     "metadata": {},
     "output_type": "execute_result"
    }
   ],
   "source": [
    "# importa dados que vamos usar \n",
    "nltk.download('punkt')\n",
    "nltk.download('averaged_perceptron_tagger')\n",
    "nltk.download('floresta')   # conjunto de textos em português anotados com etiquetas morfossintáticas\n",
    "nltk.download('stopwords')\n",
    "nltk.download('rslp')"
   ]
  },
  {
   "cell_type": "code",
   "execution_count": 23,
   "metadata": {},
   "outputs": [],
   "source": [
    "def lamatizarPalavra(palavra):\n",
    "    stemmer = RSLPStemmer()     # Removedor de Sufixos da Língua Portuguesa\n",
    "    lemma = stemmer.stem(palavra)\n",
    "    if lemma == palavra:\n",
    "        synsets = wordnet.synsets(palavra, lang='por')\n",
    "        if synsets:\n",
    "            lemma = synsets[0].lemmas()[0].name()\n",
    "    return lemma"
   ]
  },
  {
   "cell_type": "code",
   "execution_count": 24,
   "metadata": {},
   "outputs": [],
   "source": [
    "def lamatizarTexto(texto):\n",
    "    palavras = texto.split()\n",
    "    stopwordsPT = stopwords.words('portuguese')\n",
    "    textoLematizado = [lamatizarPalavra(palavra.lower()) for palavra in palavras if palavra.lower() not in stopwordsPT]\n",
    "    textoLematizado = ' '.join(textoLematizado)\n",
    "    return textoLematizado"
   ]
  },
  {
   "cell_type": "code",
   "execution_count": 58,
   "metadata": {},
   "outputs": [],
   "source": [
    "def lamatizarPDF(arquivo :str) -> str:\n",
    "    artigo = PyPDF2.PdfReader(arquivo)\n",
    "    texto = ''\n",
    "    for pagina in artigo.pages:\n",
    "        texto += pagina.extract_text()\n",
    "    return lamatizarTexto(texto)"
   ]
  },
  {
   "cell_type": "code",
   "execution_count": 59,
   "metadata": {},
   "outputs": [
    {
     "data": {
      "text/plain": [
       "'deep learning red neur convolucionais: reconhec automá caract plac licenc automo dieg alv rodrig centr informá univers feder paraíb joã pessoa, 2018 dieg alv rodrig deep learning red neur convolucionais: reconhec automá caract plac licenc automotivo. monograf apresent curs ciênc comput centr informática, univers feder paraíba, requisit obtenç degree gasbag ciênc computação. orientador: prof. doctor leonard vidal batist novembr 2018 agradec gost registr agradec pais, pedr irene, suport dad períod gradu , esp elain paci apoi dur períod dificuldade. agradec espec orientador, prof. doctor leonard vidal batist orient compreens long dess jornada. agradec coleg profes long ano pres time time auxili colabor and curso. amig apoi form diret indiret graduação. resum control tráfeg rodoviário, via públic privadas, fronteiras, estac determin estacionamento, infring lei trânsit exempl taref exig identific veicular, identific feit mei plac licenciament automo regul lei específicas. process identific plac necess wear algum técn vis computac , camp ganh bast atenç comunidad científ empr long últ form aument efici cort custos. advent aprendiz profunda, soluç divers problem vêm send pesquisadas. red neur artificiais, espec red neur convolucionais, salt dad term result compar técn tradicion s. red neur convoluc mostr extrem well -suced taref envolv princip classificação. trabalh busc demonstr viabil red neur convoluc leit caract plac licenc veicul , obt result infer ord 89,24% caract infer corret . palavr -chave: aprendiz profunda, red neur convolucionais, reconhec , plac licenc veicul abstract controlling road traffic, public or private, borders, parking lots, trespas traffic law are exampl of task that requ licens plat identification, being the licens plat regulated by specific laws. the licens plat identification process, it is necessary the use of som comput vision technic, field that ha gained enough attention of the scientific community and of the compani ov the last ye way to increas efficiency and to cut costs. with the advent of deep learning, solutiom to the most divers probl hav been researched. with artific neur networks, especially of convolut neur networks, jump in term of result compared to tradit method wa given. convolut neur network are extremely successful I N task that mainly involv classification. thil work aim to demonstrat the viability of convolut neur network reading charact in vehicul licens plat , obtaining result on the ord of 89.24% of correctly inferred charact . key-words: deep learning, hundred onvolut neur networks, recognition, licens plat S list figur figur one - exempl red F eedforward (font : nascimento&oliveira, 2016) ... 18 figur 2 - exempl (a) underfitting , (b) overfitting (c) beneficial gener (font : papagelis&kim) ................................ ................................ ................................ ..................... 19 figur three - gráf funç sig moid (font : facure, 2017) ................................ ............... twenty figur four - gráf funç relu (font : facure, 2017) ................................ ..................... 21 figur 5 - exempl dropout (font : dlb) ................................ ................................ .............. twenty-two figur six - exempl arquitetur lenet problem classif caç célul norm anorm (font : araúj et al ., 2017) ................................ .............................. 23 figur 7 - exempl funcionam nto max -pooling filtr 2x2 imag four-wheel_drive (font : ferreira, 2017) ................................ ................................ ................................ .......... 24 figur 8 - exempl arquitetur a, base lenet, utiliz ndo cam básic convoluç , pooling totalment conect (font : araúj et al ., 2017) ............ twenty-five figur nine - exempl fot v eícul retir du rant fas mont ag banc dad (font : authoress ) ................................ ................................ ................................ ....... 27 figur 10 - imag plac apó S convers scal cinz equ aliz histogram (font : authoress ) ................................ ................................ ................................ . 28 figur 11 - arquitet cnn implement (font : authoress ) ................................ .......... 28 figur 12 - exempl plac transit vermelh R emov banc imag test trein (font : authoress ) ................................ ................................ .................. thirty figur 13 - exempl plac rem ovid banc trein test alt rot ilumin uniform (font : authoress )................................ ...................... 31 figur 14 – exempl inferênc obt corretam nte (font : authoress ) ................... 32 figur fifteen – err infer R epet (font : authoress ) ................................ ..................... 34 figur 16 – exempl err infer (font : authoress ) ................................ ............... 34 list abreviat pdi – process digit I mag alpr – automatic licens plat recognition ann – artific neur network dnn – deep neur network dl – deep learning cnn – convolut neur network 12 sum one introduç ................................ ................................ ................................ ....... 13 1.1 tem ................................ ................................ ................................ ...................... fifteen 1.1.1 obje general ................................ ................................ ................................ fifteen 1.1.2 obje específ ................................ ................................ .................. fifteen 1.2 estrut trabalh ................................ ................................ ............ 16 2 conceit geral ................................ ................................ ........................... 17 2.1 perceptron feedforward ................................ ................................ ..... 17 2.2 funç erro, gradi descend backpropagation ................................ ................................ ............................ 18 2.3 funç ativ ................................ ................................ ..................... twenty 2.4 momentum ................................ ................................ ................................ ......... 21 2.5 dropout ................................ ................................ ................................ .............. 21 2.6 dat augmentation ................................ ................................ ........................ twenty-two 2.7 convoluç ................................ ................................ ................................ ..... twenty-two 2.8 red neur convoluc ................................ ............................. 23 2.8.1 cam convoluc ................................ ................................ ............ 23 2.8.2 cam pooling ................................ ................................ ....................... 24 2.8.3 cam total conect ................................ .......................... twenty-five three metodolog ................................ ................................ ................................ .... 26 3.1 obtenç banc plac veicul ................................ ..... 26 3.2 obtenç recort plac veícul .......................... 27 3.3 process padron imag ................................ .......... 27 3.4 dat augmentation ................................ ................................ ........................ 28 3.5 arquitet red ................................ ................................ ................... 28 3.6 trein red ................................ ................................ .................. twenty-nine four apresent anális result ................................ ........ thirty 5 conclus trabalh futur ................................ ....................... 35 refer ................................ ................................ ................................ ....................... 36 13 one introduç advent imag digit surg -se necess imediat técn process imagens, origin nov camp estudo, denomin process digit imag (pdi). pdi tod process anális manipul imag digitais, identificar, extra inform transform imagem. pdi englob gam softwares, hardw princip fundament teóricos. exempl divers aplic proced pdi, (queiroz, 2003): • retific restaur imagens, ond algoritm aplic M inimiz distorç degrad dad imag poss come apresentar, obje obt imag close cen ; • realç imagens, ond obje pass melhor imagem, part dela, best visual ; • classific imagens, têm final substitu anális ocular dad técn quantit anális automática, vis identific reg pres cen . evoluç métod pdi best en tend process manipul imag outr camp pesquis surgiu, vis computacional. segund ballard brown (ballard &brown , 1982 ), camp vis computac pod entend estud process extr informaçã imagens. vis computac dif pdi med pdi preocup priorit relaç imag -imagem, ond process S inic imag result imag , vis computac preocup priorit relaç imag -modelo, ond lev -se imag descr matemá (modelos) represent imagens, possibilit infer extr determin caracterís desej estudar. 14 avanç técn vis computac permit desenvolv sistem problem reconhec automá plac licenciamento, ingl automatic licens plat recognition alpr , permit poup capit human vali permit també M monitor uniform dad quant cresc veícul ruas. give_birth control veícul trafeg rodovia, atravess fronteiras, par estacionamento, públic privado, import estratég control trafeg geral. identific veícul irregul possibilit control penalização, âmbit administr penais, infra automa process otimiz cust tempo, torn serviç tir proveit dess identific eficazes. últ anos, país inglaterra, frança, est unid canad A implement sistem reconhec automá plac licenc coloc pr oduç sistem real monitor gerenciam nto tr áfeg (jin et al. , 2012) . red neur artific , ingl “ artific neur networks” , exist bast temp (rosenblatt , 1958) . cri doctor frank rosenblatt , anm posteri deriv compõ hoj divers técn aprendiz gem profund dispon base funcion S neurôni cérebr humano. ann S atra mai atenç comunidad acadêm indústr , últ déc , advent R ede neur profundas, ingl “deep neur network ”, transform divers camp , espec camp vis computac , process sinais, audi fal process lingu natur . aprendiz profund o, ingl ês “deep learning ”, form conhec refer dnn s. técn dnm bast poder difund red neur convolucionais, ingl “ convolut neur network ”, cnm . S avanç recent arquitet process plac gráficas, gpu , mai pod computacional, memór dispon acessibil recurs , possibilit wear desenvolv intens soluç utiliz cnm , mostr ado promis S resoluç problem aprendizado, espec classificação. fifteen aplic model cnm resolv problem reconhec automá plac licenc surg opç possi vi tradic técn ca vis computac aprend máquin existentes, utiliz comercialmente, resolv problem específico. 1.1 tem trabalh tema, títul sugere, deep learning ênfas wear cnm resolv pro blem reconhec caract plac veiculares. tend hipótes possibil resolv problem apen wear cnn , remov -se etap segment caracteres, common sistem busc resolv problem . 1.1.1 obje general demonstr viabil resoluç problem reconhec plac licenc veicul utiliz apen cnn . 1.1.2 obje específ • cri bas dad plac licenc veicul brasil ; • desenvolv cnn process classific dígit plac veiculares; • demonstr viabil tema. 16 1.2 estrut trabalh pres trabalh divid quatr seç . prim seç cont vis introdutór tem well contextu problemática, inclu obje apresent trabalho. segund seç trat conceit refer teór assunto, fornec conceit essenc entend seç seguintes. terc seç abordan result obt discut result quart seç trat sobr trabalh futur faz conclus acerc tema. 17 2 conceit geral introduz nest porç trabalh algum conceit relev tema. give_birth mo utilizados, well acrônimos, ingl , virtud vast utiliz public artig acadêmicos. 2.1 perceptron feedforward base trabalh warren s. mcculloch walt pitt (mcculloch &pitt , 1943) , 1958, frank ros nblatt (rosenblatt , 1958) cri conceit básic base funcion neurôni human s, perceptron . basicamente, perceptron realiz oper sobr entr 𝑥𝑖, cad entr associ pes 𝑤𝑖, realiz somatóri produt escal 𝑥𝑖. 𝑤𝑖 somatóri adic bia 𝑏. result obt ent adicion funç ativ 𝜎 conhec funç degrau, funç heavisid , produz result 0 , result men alike 0 one result mai zer . 𝑓(𝑥)={0, 𝑏+∑𝑤𝑖.𝑥𝑖 𝑖≤0 1, 𝑏+∑𝑤𝑖.𝑥𝑖 𝑖>0 dad saíd binária, perceptron consider classific bin men red neur tip feedforward . red neur tip feedforward red neur propag apen direção, seja, input entr perceptrom gesture propag saíd únic direção, retorn gesture entrada. anm norm possu multipl camadas, send cam entrada, cam saíd cam ocult localiz entr saída. red feedforward pod multicamadas, signif cam , ond saíd cam entr outr imediat posteri hierarquicamente. exempl red feedforward pod vist figur abaixo: 18 figur one - exempl red feedforward (fonte: nascimento&oliveira, 2016) 2.2 funç err , gradi descend backpropagation anm aprend através process ajust pes entr cad camada, ajust dess pes necessit defin form calcul quã próx result correto, ago necessár funç erro, normalm nte med quã imprecis red dad result esperado. funç err inclu mean squ err , bast utiliz problem regress cros -entropy , problem classific comu utiliz ( mccaffrey , 2013). cálcul cross-entropy , entrop cruzada, utiliz seguint equaç , abaix discrimin , ond W uterus pesos, 𝑦𝑖 𝑡𝑖 result infer correto, respectivamente, 𝑛 númer entire it treinamento. 𝐸(𝑤)=1 𝑛∗∑[𝑡𝑖∗log (𝑦𝑖)+(1−𝑡𝑖)∗log (1−𝑦𝑖)]𝑛 𝑖=1 dito, precis ajust pes ating result desej algoritm utiliz realiz such taref , inform entr saíd desejada, backpropagation gradi descendente. 19 form gener algoritm func ind caminh invers dados, ind saíd retorn cam cam red neur , ajust val pes 𝑤, potential red aprend padr sobr dados, entr red entr nunc vista, red able reconhec padr aprend anteriormente, entr possu ruíd (barc et al, 2005) . gradi descend que, form iter , val pes alter backpropagation segu pass fixo, cham tax aprendizagem. obje gradi descend minim funç err men err local , necessit cuid escolh tax ap rendizado, poi impact diret temp necess cheg mínimo. red general sufici aprend dad entr utiliz process trein red (process dad inser indic saíd válida), cham overfitting . cas D red general demal detect padr form correta, cham underfitting . (a) (b) (c) figur 2 - exempl (a) underfitting, (b) overfitting (c) beneficial gener (fonte: papagelis&kim) algoritm atu red conjunt feedforward , ond excursion calcul err volt pes ajustados. observ algoritm gradi descend fat encontr mín local funç erro, pod lev result consider red ótim , N ão best pod ating (mín global). twenty 2.3 funç ativ funç ativ import part anm , poi determin saíd cad perceptron (ou neurônio). wear funç line funç ativ lim ita pod anm soluç convexas. soluç - convexas, funç line necessárias. princip funç utiliz pod vist segu (facure, 2017) : • funç sigmoide: conhec funç logística, funç sigmoid dad equação: 𝜎(𝑥)=1 1+𝑒−𝑥 assum val apen 0 (nã ativação) one (ativação). comport bast parec própri neurôni biológicos, ativ S dad entr receb . figur three – gráf funç sigmoid (fonte: facure, 2017 ) • line retific (relu) : retorn 0 val actual mai zero. semelh funç identidade, dif funç anteriores, ond propag gradi desvanec R egi cauda, mostr bast easy otimizar. altern bast utiliz prática. fórmul é: 𝑅𝑒𝐿𝑈 (𝑥)=max (0,𝑥) 21 figur four – gráf funç relu (fonte: facure, 2017 ) 2.4 momentum term momentum adiç feit cálcul gradi descendente, ond term const defin quã mudanç pes anteri afet mudanç pes atual. possu val 0 1, ond 0 signif mudanç depend apen funç err one depend apen mudanç anteri peso. prát , term momentum us imped gradi descend fiqu pres mín locais, minimiz desvant algoritmo. 2.5 dropout dropout técn utiliz P ara aument quant padr red detect mesm entrada. process dá realiz remoç aleatór neurôni cam ocult dur trein min lot entrada, ond neurôni reinser concluding P rocess min lote. técn ajud evit overfitting . represent técn pod vist abaixo: twenty-two figur 5 - exempl dropout (fonte: dlb) 2.6 dat augmentation dat augmentation métod regular ba st import imped overfitting . sempr possuím conjunt trein grand sufici red aprend padr desejamos, torn difficult resoluç problem banc dad trein pequenos. process dat augmentation utiliz divers técn aument dad form artific como: vari brilho, saturação, zoom, reflex horizont vertical, recorte, outr métodos. técn consegu melhor result red adicion nenhum caracterís nov aprendida, reduz form drás overfitting , torn red robusta. 2.7 convoluç matematicamente, convoluç oper line receb dua funç entr retorn terc funç originár somatóri multiplic funç kernel reg superpost funç alv desloc kernel sobr ela. formul convoluç domíni discret seguinte: (𝑓∗𝑔)(𝑘)=ℎ(𝑘)=∑𝑓(𝑖)∙𝑔(𝑘−𝑖)𝑘 𝑖=0 23 F G sequenci numér tamanh igual variad os, funç retorn K -és element somatóri multiplicação. 2.8 red neur convoluc ingl convolution al neur network (cnm ), cnm tip específ ann , propost pesquis franc yann lecun (lecun, et al. , 1998) . cnm mostraram, desd criação, ser eficaz resolv problem classificação, mostr altern vi métod tradic tip problema. desvant cnm fat exist necess U ma grand quant dad rotul extr padrões, featur . basicamente, extr dess featur , pod exist proceed trê compon básic cnn , cam convolução, pooling red total conectada. qualqu arquitet básic compost blocos. exempl red cri yann lecun, lenet pod vist abaixo: figur six - exempl arquitet lenet problem classific célul norm anorm (fonte: araúj T al., 2017) 2.8.1 cam convoluc cam convoluc cnn respons extra cham featur entrada. process extr dess featur dá mei filtr convoluc tamanh reduzidos, ond filtr percorr dad entr 24 largura, altur profund (cham dimensão) realiz oper convoluç sobr dados. cad process entr períod trein rede, filtr ineffective send ajust such mod dispar entr contiv determin caracterís common lot entrada, exemplos, arestas, cores, dentr outr características. and entr rede, filtr ineffective aprend estrut cad turn complexas, seja, quant ma is filtr convolucionais, featur extraím entrada, however cust memór processamento, precis balance hor defin arquitetura. 2.8.2 cam pooling cam pooling cons basic cam dest nad reduz tamanh dad entrada. normalmente, subsequently cam convolucon utiliz cam pooling , próx cam convoluç receb outr form represent dados, possibilit red aprend divers represent dados, evit overfitting (karpathy ). técn bast utiliz execut pooling cham max- pooling . ness técnica, reduz subpart dad orig mai val encontr ness sub regiões, reduz tamanh imag fat filtr 𝑚 𝑥 𝑛. figur 7 - exempl D funcion max -pooling filtr 2x2 imag four-wheel_drive (fonte: ferreira, 2017) twenty-five técn pooling benefic red neur , pass reduz quant dad cam seguint melhor regular rede, reduz cust memór processamento. 2.8.3 cam total conect cam total conect norm situ concluding rede. ness cam featur extra cam convoluç anteri utiliz give_birth saíd classific rede. exempl arquitet trê cam básic pod encontr abaixo: figur 8 - exempl arquitetura, base lenet, utiliz cam básic convolução, pooling total conect (fonte: araúj et al., 2017) 26 three metodolog pres trabalh segu abord metodológ qualitativa. result apresent underneath form conclus extraídas. obtenç S refer R esultados, algum pass segu D iscrimin S seguir. 3.1 obtenç banc plac veicul prim passo, decid -se banc imag plac obt form manual, seja, banc imag própri cri escolh ufpb, campu i, tom fotos. local enorm númer veícul estacionamentos, ufpb possibilit rápid aquis fot veículos. etap obtenç banc dad abert process númer 23074.010615/2018 -13 junt prefeit universitár univers feder paraíba. processo, solicit autor fotograf veícul estacion campu i. dev autor mão process tom imag iniciado. aquis imag utiliz câm marc canon , model rebel t2i , configur mod man seguint parâmetr finidos: • iso aut : máx.:400 • comp.exp./aeb : 0 • wb shift/bkt : 0,0/ ±0 • dispar flash : desactiv • qual : liter configur acim busc zer máx configur melhor ilumin imag captur mai fidel potential . 27 figur nine - exempl fot veícul retir dur fas mont banc dad (fonte: autor) retir 800 imag comp banc 2 turnos. restr privac exig prefeit universitár liber fotos, apen veícul authoress mostr exemplo. 3.2 obtenç recort plac veícul record plac utiliz ferrament onlin cham supervisely. imag veícul plac segment form man através ferrament onlin , disponibil form gratuit pesquisa, send export format json. subsequently process segment manual, script desenvolv au tor utiliz lingu python execut cad 800 imagens, recort plac S imag ns através marc feit supervisely . 3.3 process padron imag subsequently obtenç recort placas, imag convert escal cinz submet process equal histograma. tarefa, U M script desenvolv autor, lingu python, utiliz bibliotec manipul imag códig aberto, opencv . 28 figur 10 - imag plac subsequently convers escal cinz equalizaçã histogram (fonte: autor) 3.4 dat augmentation conform cit refer teórico, cnm necessit grand quant dad entr treinamento, tamanh banc dad 800 imag divid inic hundred imag P ara test 700 imag treinamento, send consider númer baix imag treinamento. técn dat augmentation mostr úteis, ond aument -se banc imag four vez tamanh original, 800 3200 imag . aind númer baixo, trabalh propõe, satisfatório. 3.5 arquitet red seguint arquitet cnn implement ap efetu classific plac : figur 11 - arquitet cnn implement (fonte: autor) entrada: imag 128x48cam convolucionalcam pooling: maxpool: 2x2, strid 2x2cam convoluc cam pooling: maxpool: 2x2, strid 2x2cam convolucionalcam pooling: maxpool: 2x2, strid 2x2cam convoluc cam pooling: maxpool: 4x4, strid 3x2cam total conectadasaída: array 7x36 twenty-nine arquitet acima, vem four cam convoluç , cad one cam pooling adjac ond prim receb imag tamanh original, 128x48, últ reduz imag tamanh 6x1. 3.6 trein red serve celer process trein red foi-s utiliz plac gráf ( gpu ) marc evg chipset nvid 1080 information_technology 11gb memór gddr5x, process intel i7 4790k 16 gb memór ram ddr3 marc corsa , model vengeanc pro. sistem operac utiliz microsoft window 10 pro. thirty four apresent anál result pres trabalh obtev result satisfatóri propunha. obje inic , demonstr viabil resoluç problem reconhec plac licenc veicul utiliz apen cnn , trabalh obtev result tax méd acert caract 89,24% plac int 49,22%. N ormal banc necessária, ond algum plac lev cas isol como, exemplo, plac carr rental ser vermelh lev pouc cas caract paint branca, remov banc test treinament o. figur 12 - exempl plac transit vermelh remov banc imag test trein (fonte: autor) plac alt degree rot retir banc trein teste, vist baix ocorr interfer trein rede. outr problem sombr parc demasi alt degree luminos natur fat interfer bast trein aument precis infer , vist pré -process equal histograma, permanec -se problema. plac letr pouc vist motiv err infer caracteres. red grand sucess acert caract numér vist possivel idad 10 caract disponibil caract numér plac trein red vasta. 31 figur 13 - exempl plac remov banc trein test alt rot ilumin uniform (fonte: autor) concluding process normal rest -se bas dad entire 2820 imagens. obtenç númer acert apresent previamente, técn conhec valid cruz tip k-fold utilizada. -se utiliz apen grup trein teste, grup valid ignorado. 2820 imag divid 10 grup mutu exclud 282 imag ( 𝑘=10), -se realiz prim trein (ch ada prim iter autor) utiliz grup ( fold) one test rest treinamento. posteri cad grup foi, form iterativa, assum pos grup test grup 10. result obt pod encontr tabel seguir: tabel 1: result obt subsequently 𝒌=𝟏𝟎 test % acert caract % acert plac cust trein 1ª iter 93,4 57,09 0.3544 2ª iter 84,54 33,69 0.5532 3ª iter 90,33 52,83 0.5363 4ª iter 85,28 40,07 0.5414 5ª iter 96,18 76,24 0.611 6ª iter 85,71 34,04 0.3175 7ª iter 89,07 48,22 0.6368 8ª iter 93,27 65,25 0.3501 32 9ª iter 83,61 32,98 0.557 10ª iter 90,96 51,77 0.3008 méd 89,24 49,22 0.475857 exemplific resultados, segu imag algum infer obt êxito: figur 14 – exempl infer obt corret (fonte: autor) dur process valid cruzada, iterações, uterus confus cri vis demonstr err red serve nort sobr qual ond concentr err infer cnn . seg tabel uterus confus ond legend hundred indic val corret I val I nfer : 33 tabel 2: uterus confus origin iter realiz c/i F G M N Q R X 6.66% 20% 20% hundred 16.66 % D 12.5% I 4.34% K 9.52% liter 25% M Q 0.62% 1.25% T 40% 10% 10% Z 7.69% 0 one 2 5 8 c/i upsilon Z 0 one 2 four 5 7 nine 20% 6.66% hundred D I K liter M 1.78% Q T 10% 10% 20% Z 15.38 % 0 0.76% one 0.9% 0.9% 0.9% 2 1.02% 5 0.99% 0.99% 8 1.01% 34 uterus confusão, pod observ cl divis acentu err letr -letr err númer -número, mostr red foi, iter pesquisada, well relaç entend padr three letr segu four númer pres plac licenc automo brasileiras. dur process construç uterus cas err interess S mostr well pres list err err caract númer infer repetid form incorret , doi exempl ilustr cas específico: figur fifteen – err infer repet (fonte: autor) rest err mostr bast lig quant caract pres teste, seja, baix ocorr determin caractere. segu exempl outr err apresent rede: figur 16 – exempl err infer (fonte: autor) 35 5 conclus trabalh futur pres trabalh ating obje general específicus, med cri bas dad plac licenc veicul brasileiras, desenvolv cnn process plac obtev result demonstr viabil tema. obje trabalh desenvolv sistem pud utiliz comercialmente, portant algum taref pod feit trabalh futur como: • test degree acurác infer feit part banc test ger computador; • realiz crít sobr dad exempl fat exist padr aaa9999 dad lev consider inferências; • constru banc dad road comput reconhec nov plac mercosul; • alter arquitet red form radic test level influ sobr inferências; • test outr arquitet exist cnn . 36 refer araúj , flávi h. d. ; carn , allan c. ; silv , romu r. v. ; med , fát n. s. ; ushiz , daniel m. red neur convoluc tensorﬂow: teor prát . iii escol region informá piauí. livr anal - artig minicursos, v. 1, n. 1, p. 382 -406, jun, 2017. dispon em: http://www.eripi.com.br/2017/images/anais/minicursos/7.pdf . acess em: one 5 out. 2018. barc , mar carolin stockl ; silv , tiag red siqu ; magin , marci . trein red neur artificiais: algoritm backpropagation . in: ix encontr latin americ inici científ v encontr latin americ pó -graduação, univers val paraíba. val paraíba: univap; 200 5. p. 46-49. dispon em: http://www.inicepg.u nivap.br/cd/inic_2005/inic/ic1%20anais/ic1 -17.pdf . acess em: 12 out. 2018. dpl, deep learning book. capítul 23 – func dropout? . dispon em: http://deeplearningbook.com.br/capitul -23-c -func -o-dropout/ . acess em: one four out. 2018. facure, matheus. funç ativ - entend import ativ corret red neur , 2017 . dispon em: https://matheusfacure.github.io/2017/07/12/activ - func/ . acess em: one four out. 2018. ferreira, lessandr santos. red neur conv oluc profund detecç plant dan lavo soj . dissert mestrado, univers feder mat gross southland , 2017 . dispon em: http://www.gpec.ucdb.br/pistori/orientacoes/dissertacoes/alessandro2017.pdf . acess em: one 5 out. 2018. jin, lisheng ; Xian , huac ; bie, jing; sun , yuqin ; hou , haijing ; niu, qingning . licens plat recognition algorithm passeng car in chines resident are . sensor (basel), p. 8355 –8370, 2012. dispon : https://www.ncbi.nlm.nih.gov/pubmed/22969404 . acess em: twenty-five out . 2018. karpathy, a. cs231n convolut neur network ocular recognition . dispon em: http://cs231n.github.io/convolut -networks/. acess em: fifteen out. 2018. lecun , y.; bott , l.; bengi , y.; haffn , p. gradient -based learning applied to document recognition . proc. of the ieee, nov.,. 1998. dispon em: http://yann.lecun.com/exdb/publis/pdf/lecun -01a.pdf . acess em: one four out. 2018. mccaffrey , jam d. why you should us cros -entropy err instead of classification err or mean squared err neur network classifi training . 2013. dispon em: https://jamesmccaffrey.wordpress.com/2013/11/05/why -you-should -use-cros -entropy -err - 37 instead -of-classification -err -or-mean -squared -err -for-ne -network -classifi -training/ . acess em: 12 out. 2018. mcculloch, warren s.; pitts, W alter. logic calculu of the ide immanent in nerv activity . bulletin of mathematic biophysic , vol. 5, p. 115 -133, 1943. dispon em: https://pdfs.semanticscholar.org/5272/8a99829792c3272043842455f3a110e841b1.pdf. acess em: 11 out. 2018. nascimento, e. o.; oliveira, l. n. sensitivity analysil of cutting forc on milling proces using factor experiment planning and ne ural networks. iee latin amer transactiom , vol. 14, n. 12, p. 4811 -4820, 2016. dispon em: https://www.researchgate.net/publication/312027170_sensitivity_analysis_of_cutting_forc _on_milling_process_using_factorial_experimental_planning_and_artific ial_neural_netw rks. acess em: one 2 out. 2018. papagelis, anthony j.; kim, dong soo. backpropagation . dispon em: https://www.cse.unsw.edu.au/~cs9417ml/mlp2/backpropagation.html. acess em: one three out. 2018. queiroz, corin jar de. anális transform geométr georreferenc imag satélit cb -i. dissert mestrado. ufrg - cepsrm, 2003. dispon em: http://hdl.handle.net/10183/6349. acess em: 23 out. 2018. rosenblatt, F . the perceptron: probabilistic mo del information storag and organization in the brain. psychologic review , vol. 65, nº 6, p. 386 -408, 1958. dispon em: http://citeseerx.ist.psu.edu/viewdoc/summary?doi=10.1.1.335.3398 . acess em: 11 out. 2018.'"
      ]
     },
     "execution_count": 59,
     "metadata": {},
     "output_type": "execute_result"
    }
   ],
   "source": [
    "lamatizarPDF('ArquivosPT/DAR20052019.pdf')"
   ]
  }
 ],
 "metadata": {
  "kernelspec": {
   "display_name": "base",
   "language": "python",
   "name": "python3"
  },
  "language_info": {
   "codemirror_mode": {
    "name": "ipython",
    "version": 3
   },
   "file_extension": ".py",
   "mimetype": "text/x-python",
   "name": "python",
   "nbconvert_exporter": "python",
   "pygments_lexer": "ipython3",
   "version": "3.10.9"
  },
  "orig_nbformat": 4,
  "vscode": {
   "interpreter": {
    "hash": "57e513fe18a804ff3cd60649239638e0ab0ce36b6125e67c2c7b9b2b4c9b822f"
   }
  }
 },
 "nbformat": 4,
 "nbformat_minor": 2
}
