{
 "cells": [
  {
   "attachments": {},
   "cell_type": "markdown",
   "metadata": {},
   "source": [
    "# extração do texto do PDF"
   ]
  },
  {
   "cell_type": "code",
   "execution_count": 2,
   "metadata": {},
   "outputs": [],
   "source": [
    "import PyPDF2"
   ]
  },
  {
   "cell_type": "code",
   "execution_count": 5,
   "metadata": {},
   "outputs": [],
   "source": [
    "reader = PyPDF2.PdfReader('badTools.pdf')"
   ]
  },
  {
   "cell_type": "code",
   "execution_count": 16,
   "metadata": {},
   "outputs": [
    {
     "data": {
      "text/plain": [
       "2"
      ]
     },
     "execution_count": 16,
     "metadata": {},
     "output_type": "execute_result"
    }
   ],
   "source": [
    "len(reader.pages)"
   ]
  },
  {
   "cell_type": "code",
   "execution_count": 23,
   "metadata": {},
   "outputs": [
    {
     "data": {
      "text/plain": [
       "'[15:28 19/2/2010 Bioinformatics-btq033.tex] Page: 841 841–842BIOINFORMATICS APPLICATIONS NOTEVol. 26 no. 6 2010, pages 841–842\\ndoi:10.1093/bioinformatics/btq033\\nGenome analysis Advance Access publication January 28, 2010\\nBEDT ools: a ﬂexible suite of utilities for comparing genomic\\nfeatures\\nAaron R. Quinlan1,2,∗and Ira M. Hall1,2,∗\\n1Department of Biochemistry and Molecular Genetics, University of Virginia School of Medicine and2Center for\\nPublic Health Genomics, University of Virginia, Charlottesville, VA 22908, USA\\nAssociate Editor: Martin Bishop\\nABSTRACT\\nMotivation: T esting for correlations between different sets of\\ngenomic features is a fundamental task in genomics research.However, searching for overlaps between features with existing web-based methods is complicated by the massive datasets that areroutinely produced with current sequencing technologies. Fast andﬂexible tools are therefore required to ask complex questions of thesedata in an efﬁcient manner.Results: This article introduces a new software suite for the\\ncomparison, manipulation and annotation of genomic featuresin Browser Extensible Data (BED) and General Feature Format(GFF) format. BEDT ools also supports the comparison of sequencealignments in BAM format to both BED and GFF features. The toolsare extremely efﬁcient and allow the user to compare large datasets(e.g. next-generation sequencing data) with both public and customgenome annotation tracks. BEDT ools can be combined with oneanother as well as with standard UNIX commands, thus facilitatingroutine genomics tasks as well as pipelines that can quickly answerintricate questions of large genomic datasets.Availability and implementation: BEDT ools was written in C++.\\nSource code and a comprehensive user manual are freely availableat http://code.google.com/p/bedtoolsContact: aaronquinlan@gmail.com; imh4y@virginia.edu\\nSupplementary information: Supplementary data are available at\\nBioinformatics online.\\nReceived on November 24, 2009; revised on January 11, 2010;\\naccepted on January 21, 2010\\n1 INTRODUCTION\\nDetermining whether distinct sets of genomic features (e.g. aligned\\nsequence reads, gene annotations, ESTs, genetic polymorphisms,mobile elements, etc.) overlap or are associated with one another isa fundamental task in genomics research. Such comparisons serveto characterize experimental results, infer causality or coincidence(or lack thereof) and assess the biological impact of genomicdiscoveries. Genomic features are commonly represented by theBrowser Extensible Data (BED) or General Feature Format (GFF)formats and are typically compared using either the UCSC GenomeBrowser’s (Kent et al., 2002) ‘Table Browser’ or using the Galaxy\\n(Giardine et al., 2005) interface. While these tools offer a convenient\\nand reliable method for such analyses, they are not amenable tolarge and/or ad hoc datasets owing to the inherent need to interact\\nwith a remote or local web site installation. Moreover, complicated\\n∗To whom correspondence should be addressed.analyses often require iterative testing and reﬁnement. In this sense,faster and more ﬂexible tools allow one to conduct a greater numberand more diverse set of experiments. This necessity is made moreacute by the data volume produced by current DNA sequencingtechnologies. In an effort to address these needs, we have developedBEDTools, a fast and ﬂexible suite of utilities for common operationson genomic features.\\n2 FEATURES AND METHODS\\n2.1 Common scenarios\\nGenomic analyses often seek to compare features that are discovered\\nin an experiment to known annotations for the same species. Whengenomic features from two distinct sets share at least one base pairin common, they are deﬁned as ‘intersecting’ or ‘overlapping’. Forexample, a typical question might be ‘ Which of my novel genetic\\nvariants overlap with exons ?’ One straightforward approach to\\nidentify overlapping features is to iterate through each feature inset A and repeatedly ask if it overlaps with any of the features inset B. While effective, this approach is unreasonably slow whenscreening for overlaps between, for example, millions of DNAsequence alignments and the RepeatMasker (Smit et al., 1996–2004)\\ntrack for the human genome. This inefﬁciency is compounded whenasking more complicated questions involving many disparate sets ofgenomic features. BEDTools was developed to efﬁciently addresssuch questions without requiring an installation of the UCSC orGalaxy browsers. The BEDTools suite is designed for use in a UNIXenvironment and works seamlessly with existing UNIX utilities (e.g.grep,awk,sort, etc.), thereby allowing complex experiments to be\\nconducted with a single UNIX pipeline.\\n2.2 Language and algorithmic approach\\nBEDTools incorporates the genome-binning algorithm used by theUCSC Genome Browser (Kent et al., 2002). This clever approach\\nuses a hierarchical indexing scheme to assign genomic featuresto discrete ‘bins’ (e.g. 16 kb segments) along the length of achromosome. This expedites searches for overlapping features,since one must only compare features between two sets thatshare the same (or nearby) bins. As illustrated in SupplementaryFigure 1, calculating feature overlaps for large datasets (e.g.millions of sequence alignments) is substantially faster than usingthe tools available on the public Galaxy web site. The softwareis written in C++ and supports alignments in BAM format(Liet al., 2009) through use of the BAMTools libraries (Barnett\\net al. , http://sourceforge.net/projects/bamtools/).\\n© The Author(s) 2010. Published by Oxford University Press.\\nThis is an Open Access article distributed under the terms of the Creative Commons Attribution Non-Commercial License (http://creativecommons.or g/licenses/\\nby-nc/2.5), which permits unrestricted non-commercial use, distribution, and reproduction in any medium, provided the original work is properly c ited.Downloaded from https://academic.oup.com/bioinformatics/article/26/6/841/244688 by Universidade Estadual de Maringï¿½ user on 31 March 2022\\n'"
      ]
     },
     "execution_count": 23,
     "metadata": {},
     "output_type": "execute_result"
    }
   ],
   "source": [
    "reader.pages[0].extract_text()"
   ]
  },
  {
   "cell_type": "code",
   "execution_count": null,
   "metadata": {},
   "outputs": [],
   "source": []
  }
 ],
 "metadata": {
  "kernelspec": {
   "display_name": "base",
   "language": "python",
   "name": "python3"
  },
  "language_info": {
   "codemirror_mode": {
    "name": "ipython",
    "version": 3
   },
   "file_extension": ".py",
   "mimetype": "text/x-python",
   "name": "python",
   "nbconvert_exporter": "python",
   "pygments_lexer": "ipython3",
   "version": "3.8.13"
  },
  "orig_nbformat": 4,
  "vscode": {
   "interpreter": {
    "hash": "2a7084dce4a57fabdb294815b03e7954449d6920124286f14e8400459bb21104"
   }
  }
 },
 "nbformat": 4,
 "nbformat_minor": 2
}
