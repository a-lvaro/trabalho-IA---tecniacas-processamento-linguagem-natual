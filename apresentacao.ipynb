{
 "cells": [
  {
   "attachments": {},
   "cell_type": "markdown",
   "metadata": {},
   "source": [
    "# extração do texto do PDF"
   ]
  },
  {
   "attachments": {},
   "cell_type": "markdown",
   "metadata": {},
   "source": [
    "## inglês"
   ]
  },
  {
   "cell_type": "code",
   "execution_count": 1,
   "metadata": {},
   "outputs": [],
   "source": [
    "import PyPDF2\n",
    "import nltk\n",
    "\n",
    "from nltk.corpus import stopwords"
   ]
  },
  {
   "cell_type": "code",
   "execution_count": 46,
   "metadata": {},
   "outputs": [
    {
     "name": "stderr",
     "output_type": "stream",
     "text": [
      "[nltk_data] Downloading package stopwords to\n",
      "[nltk_data]     /Users/alvaro/nltk_data...\n",
      "[nltk_data]   Package stopwords is already up-to-date!\n"
     ]
    }
   ],
   "source": [
    "#Listagem de palavras frequentes que não alteram o significado do texto (em ingles)\n",
    "nltk.download('stopwords')\n",
    "irrelevantes = stopwords.words('english')"
   ]
  },
  {
   "cell_type": "code",
   "execution_count": 47,
   "metadata": {},
   "outputs": [
    {
     "name": "stderr",
     "output_type": "stream",
     "text": [
      "[nltk_data] Downloading package wordnet to /Users/alvaro/nltk_data...\n",
      "[nltk_data]   Package wordnet is already up-to-date!\n",
      "[nltk_data] Downloading package omw-1.4 to /Users/alvaro/nltk_data...\n",
      "[nltk_data]   Package omw-1.4 is already up-to-date!\n"
     ]
    }
   ],
   "source": [
    "#tratamento de flexão de palavras por lematização\n",
    "tk = nltk.tokenize.WhitespaceTokenizer()\n",
    "nltk.download('wordnet')\n",
    "nltk.download('omw-1.4')\n",
    "lmt = nltk.stem.WordNetLemmatizer()\n",
    "\n",
    "#A biblioteca nltk não tem dados para lematização em PT\n",
    "def lematize_text(text):\n",
    "    lem_words = list()\n",
    "    for word in tk.tokenize(text):\n",
    "        lem_words.append(lmt.lemmatize(word))\n",
    "    return lem_words\n"
   ]
  },
  {
   "cell_type": "code",
   "execution_count": 48,
   "metadata": {},
   "outputs": [],
   "source": [
    "reader = PyPDF2.PdfReader('ArquivosEN/1608.06902.pdf')"
   ]
  },
  {
   "cell_type": "code",
   "execution_count": 49,
   "metadata": {},
   "outputs": [
    {
     "data": {
      "text/plain": [
       "11"
      ]
     },
     "execution_count": 49,
     "metadata": {},
     "output_type": "execute_result"
    }
   ],
   "source": [
    "len(reader.pages)"
   ]
  },
  {
   "cell_type": "code",
   "execution_count": 50,
   "metadata": {},
   "outputs": [],
   "source": [
    "textin = reader.pages[0].extract_text()"
   ]
  },
  {
   "cell_type": "code",
   "execution_count": 51,
   "metadata": {},
   "outputs": [
    {
     "name": "stdout",
     "output_type": "stream",
     "text": [
      "541\n"
     ]
    }
   ],
   "source": [
    "lematizedTXT = lematize_text(textin)\n",
    "print(len(lematizedTXT))"
   ]
  },
  {
   "cell_type": "code",
   "execution_count": 53,
   "metadata": {},
   "outputs": [],
   "source": [
    "#Removendo elementos ruins - função bem custosa, deve ter alguma que faz isso mais facil\n",
    "for word in lematizedTXT:\n",
    "    for stopword in irrelevantes:\n",
    "        if word == stopword:\n",
    "            lematizedTXT.remove(word)\n"
   ]
  },
  {
   "cell_type": "code",
   "execution_count": 54,
   "metadata": {},
   "outputs": [
    {
     "name": "stdout",
     "output_type": "stream",
     "text": [
      "380\n",
      "['Recurrent', 'Neural', 'Networks', 'With', 'Limited', 'Numerical', 'Precision', 'Joachim', 'Ott\\x03,', 'Zhouhan', 'Linz,Ying', 'Zhangz,', 'Shih-Chii', 'Liu\\x03,', 'Yoshua', 'Bengiozy', '\\x03Institute', 'Neuroinformatics,', 'University', 'Zurich', 'ETH', 'Zurich', 'ottj@ethz.ch,', 'shih@ini.ethz.ch', 'zDépartement', 'd’informatique', 'et', 'de', 'recherche', 'opérationnelle,', 'Université', 'de', 'Montréal', 'yCIFAR', 'Senior', 'Fellow', '{zhouhan.lin,', 'ying.zhang}@umontreal.ca', 'Abstract', 'Recurrent', 'Neural', 'Networks', '(RNNs)', 'produce', 'state-of-art', 'performance', 'many', 'machine', 'learning', 'task', 'demand', 'resource', 'term', 'memory', 'computational', 'power', 'often', 'high.', 'Therefore,', 'great', 'interest', 'optimizing', 'computation', 'performed', 'model', 'especially', 'considering', 'development', 'specialized', 'low-power', 'hardware', 'deep', 'networks.', 'One', 'way', 'reducing', 'computational', 'need', 'limit', 'numerical', 'precision', 'network', 'weight', 'biases.', 'This', 'ha', 'led', 'different', 'proposed', 'rounding', 'method', 'applied', 'far', 'Convolutional', 'Neural', 'Networks', 'Fully-Connected', 'Networks.', 'This', 'paper', 'address', 'question', 'best', 'reduce', 'weight', 'precision', 'training', 'case', 'RNNs.', 'We', 'present', 'result', 'use', 'different', 'stochastic', 'deterministic', 'reduced', 'precision', 'training', 'method', 'applied', 'three', 'major', 'RNN', 'type', 'tested', 'several', 'datasets.', 'The', 'result', 'show', 'weight', 'binarization', 'method', 'work', 'RNNs.', 'However,', 'stochastic', 'deterministic', 'ternarization,', 'pow2-ternarization', 'method', 'gave', 'rise', 'low-precision', 'RNNs', 'produce', 'similar', 'even', 'higher', 'accuracy', 'certain', 'datasets', 'therefore', 'providing', 'path', 'towards', 'training', 'efﬁcient', 'implementation', 'RNNs', 'specialized', 'hardware.', '1', 'Introduction', 'A', 'Recurrent', 'Neural', 'Network', '(RNN)', 'speciﬁc', 'type', 'neural', 'network', 'able', 'process', 'input', 'output', 'sequence', 'variable', 'length.', 'Because', 'nature,', 'RNNs', 'suitable', 'sequence', 'modeling.', 'Various', 'RNN', 'architecture', 'proposed', 'recent', 'years,', 'based', 'different', 'form', 'non-linearity,', 'Gated', 'Recurrent', 'Unit', '(GRU)', '[Cho', 'et', 'al.,', '2014]', 'Long-Short', 'Term', 'Memory', '(LSTM)', '[Hochreiter', 'et', 'al.,', '1997].', 'They', 'enabled', 'new', 'level', 'performance', 'many', 'task', 'speech', 'recognition', '[Amodei', 'et', 'al.,', '2015][Chan', 'et', 'al.,', '2015],', 'machine', 'translation', '[Devlin', 'et', 'al.,', '2014][Chung', 'et', 'al.,', '2016][Sutskever', 'et', 'al.,', '2014],', 'even', 'video', 'game', '[Mnih', 'et', 'al.,', '2015]', 'Go[Silver', 'et', 'al.,', '2016].', 'Compared', 'standard', 'feed-forward', 'networks,', 'RNNs', 'often', 'take', 'longer', 'train', 'demanding', 'memory', 'computational', 'power.', 'For', 'example,', 'take', 'week', 'train', 'model', 'state-of-the-art', 'machine', 'translation', 'speech', 'recognition.', 'Thus', 'vital', 'importance', 'accelerate', 'computation', 'reduce', 'training', 'time', 'networks.', 'On', 'other', 'hand,', 'even', 'run-time,', 'model', 'require', 'much', 'term', 'computational', 'resource', 'want', 'deploy', 'model', 'onto', 'low-power', 'embedded', 'hardware', 'devices.', 'Increasingly,', 'dedicated', 'deep', 'learning', 'hardware', 'platform', 'including', 'FPGAs', '[Farabet', 'et', 'al.,', '2011]', 'custom', 'chip', '[Sim', 'et', 'al.,', '2016]', 'reporting', 'higher', 'computational', 'efﬁciencies', 'tera', 'operation', 'per', 'second', 'per', 'watt', '(TOPS/W).', 'These', 'platform', 'targeted', 'deep', 'CNNs.', 'If', 'low-precision', 'RNNs', 'able', 'report', 'same', 'performance,', 'saving', 'reduction', 'multiplier', '(the', 'circuit', 'take', 'space', 'energy)', 'memory', 'storage', 'weight', 'would', 'even', 'larger', 'bit', 'precision', 'multiplier', 'needed', '2', '3', 'gate', 'gated', 'RNN', 'unit', 'be', 'reduced', 'the', 'multiplier', 'removed', 'completely.', '1arXiv:1608.06902v2', '[cs.NE]', '26', 'Feb', '2017']\n"
     ]
    }
   ],
   "source": [
    "#Deu certo, mas ainda tem palavras que precisariam ser tratadas\n",
    "print(len(lematizedTXT))\n",
    "print(lematizedTXT)"
   ]
  },
  {
   "cell_type": "code",
   "execution_count": null,
   "metadata": {},
   "outputs": [],
   "source": [
    "#Existem caracteres estranhos (Ott\\x03,)\n",
    "#Verificar pontuação, ela pode não ser tão importante\n",
    "#Existem alguns trechos em espanhol(?)\n",
    "#Palavras compostas como low-precision\n",
    "#1arXiv:1608.06902v2 (?)"
   ]
  },
  {
   "attachments": {},
   "cell_type": "markdown",
   "metadata": {},
   "source": [
    "## Português"
   ]
  },
  {
   "cell_type": "code",
   "execution_count": 1,
   "metadata": {},
   "outputs": [],
   "source": [
    "import PyPDF2\n",
    "\n",
    "import nltk\n",
    "from nltk.corpus import wordnet, stopwords\n",
    "from nltk.stem import RSLPStemmer\n",
    "\n",
    "import string\n",
    "\n",
    "import matplotlib.pyplot as plt\n",
    "\n",
    "from collections import Counter\n",
    "\n",
    "from wordcloud import WordCloud"
   ]
  },
  {
   "cell_type": "code",
   "execution_count": 2,
   "metadata": {},
   "outputs": [
    {
     "name": "stderr",
     "output_type": "stream",
     "text": [
      "[nltk_data] Downloading package punkt to /Users/alvaro/nltk_data...\n",
      "[nltk_data]   Package punkt is already up-to-date!\n",
      "[nltk_data] Downloading package averaged_perceptron_tagger to\n",
      "[nltk_data]     /Users/alvaro/nltk_data...\n",
      "[nltk_data]   Package averaged_perceptron_tagger is already up-to-\n",
      "[nltk_data]       date!\n",
      "[nltk_data] Downloading package floresta to /Users/alvaro/nltk_data...\n",
      "[nltk_data]   Package floresta is already up-to-date!\n",
      "[nltk_data] Downloading package stopwords to\n",
      "[nltk_data]     /Users/alvaro/nltk_data...\n",
      "[nltk_data]   Package stopwords is already up-to-date!\n",
      "[nltk_data] Downloading package rslp to /Users/alvaro/nltk_data...\n",
      "[nltk_data]   Package rslp is already up-to-date!\n"
     ]
    },
    {
     "data": {
      "text/plain": [
       "True"
      ]
     },
     "execution_count": 2,
     "metadata": {},
     "output_type": "execute_result"
    }
   ],
   "source": [
    "# importa dados que vamos usar \n",
    "nltk.download('punkt')\n",
    "nltk.download('averaged_perceptron_tagger')\n",
    "nltk.download('floresta')   # conjunto de textos em português anotados com etiquetas morfossintáticas\n",
    "nltk.download('stopwords')\n",
    "nltk.download('rslp')"
   ]
  },
  {
   "attachments": {},
   "cell_type": "markdown",
   "metadata": {},
   "source": [
    "### remover pontuação"
   ]
  },
  {
   "cell_type": "code",
   "execution_count": 71,
   "metadata": {},
   "outputs": [],
   "source": [
    "def removerPontuacao(texto :str) -> str:\n",
    "    return \"\".join(caractere for caractere in texto if caractere not in string.punctuation)"
   ]
  },
  {
   "attachments": {},
   "cell_type": "markdown",
   "metadata": {},
   "source": [
    "### Lamatizar artigo"
   ]
  },
  {
   "cell_type": "code",
   "execution_count": 72,
   "metadata": {},
   "outputs": [],
   "source": [
    "def lamatizarPalavra(palavra :str) -> str:\n",
    "    stemmer = RSLPStemmer()     # Removedor de Sufixos da Língua Portuguesa\n",
    "    lemma = stemmer.stem(palavra)\n",
    "    if lemma == palavra:\n",
    "        synsets = wordnet.synsets(palavra, lang='por')\n",
    "        if synsets:\n",
    "            lemma = synsets[0].lemmas()[0].name()\n",
    "    return lemma"
   ]
  },
  {
   "cell_type": "code",
   "execution_count": 73,
   "metadata": {},
   "outputs": [],
   "source": [
    "def lamatizarTexto(texto :str) -> str:\n",
    "    palavras = texto.split()\n",
    "    stopwordsPT = stopwords.words('portuguese')\n",
    "    textoLematizado = [lamatizarPalavra(palavra.lower()) for palavra in palavras if palavra.lower() not in stopwordsPT]\n",
    "    textoLematizado = ' '.join(textoLematizado)\n",
    "    return textoLematizado"
   ]
  },
  {
   "cell_type": "code",
   "execution_count": 74,
   "metadata": {},
   "outputs": [],
   "source": [
    "def preProcessamento(arquivo :str) -> str:\n",
    "    artigo = PyPDF2.PdfReader(arquivo)\n",
    "    textoPreProcessado = ''\n",
    "    for pagina in artigo.pages:\n",
    "        textoPreProcessado += pagina.extract_text()\n",
    "\n",
    "    textoPreProcessado = lamatizarTexto(textoPreProcessado)\n",
    "    return removerPontuacao(textoPreProcessado)"
   ]
  },
  {
   "cell_type": "code",
   "execution_count": 75,
   "metadata": {},
   "outputs": [],
   "source": [
    "artigoPreProcessado = preProcessamento('ArquivosPT/DAR20052019.pdf')"
   ]
  },
  {
   "attachments": {},
   "cell_type": "markdown",
   "metadata": {},
   "source": [
    "### contagem dos termos do artigo"
   ]
  },
  {
   "cell_type": "code",
   "execution_count": 28,
   "metadata": {},
   "outputs": [],
   "source": [
    "def contagemTermos(texto :str) -> dict:\n",
    "    palavras = texto.split()\n",
    "    return Counter(palavras)"
   ]
  },
  {
   "cell_type": "code",
   "execution_count": 49,
   "metadata": {},
   "outputs": [],
   "source": [
    "def nuvemPalavras(texto :str, quantidadePalavras: int) -> None:\n",
    "    contagemPalavras = contagemTermos(texto)\n",
    "\n",
    "    palavras = dict(contagemPalavras.most_common(quantidadePalavras))\n",
    "\n",
    "    nuvem_palavras = WordCloud()\n",
    "    nuvem_palavras.generate_from_frequencies(palavras)\n",
    "\n",
    "    plt.imshow(nuvem_palavras, interpolation='bilinear')\n",
    "    plt.axis(\"off\")\n",
    "    plt.show()"
   ]
  },
  {
   "cell_type": "code",
   "execution_count": 32,
   "metadata": {},
   "outputs": [
    {
     "data": {
      "text/plain": [
       "[('red', 51),\n",
       " ('imag', 43),\n",
       " ('plac', 42),\n",
       " ('neur', 35),\n",
       " ('process', 34),\n",
       " ('figur', 34),\n",
       " ('funç', 32),\n",
       " ('cam', 32),\n",
       " ('exempl', 30),\n",
       " ('dad', 29)]"
      ]
     },
     "execution_count": 32,
     "metadata": {},
     "output_type": "execute_result"
    }
   ],
   "source": [
    "contagemPalavras = contagemTermos(artigoPreProcessado)\n",
    "contagemPalavras.most_common(10)"
   ]
  },
  {
   "cell_type": "code",
   "execution_count": 50,
   "metadata": {},
   "outputs": [
    {
     "data": {
      "image/png": "[encoded data removed]",
      "text/plain": [
       "<Figure size 640x480 with 1 Axes>"
      ]
     },
     "metadata": {},
     "output_type": "display_data"
    }
   ],
   "source": [
    "nuvemPalavras(artigoPreProcessado, 10)"
   ]
  },
  {
   "attachments": {},
   "cell_type": "markdown",
   "metadata": {},
   "source": [
    "### Identificar referências"
   ]
  },
  {
   "cell_type": "code",
   "execution_count": 77,
   "metadata": {},
   "outputs": [],
   "source": [
    "# TODO esse código precisa ser melhorado\n",
    "artigo = PyPDF2.PdfReader('ArquivosPT/DAR20052019.pdf')"
   ]
  },
  {
   "cell_type": "code",
   "execution_count": 78,
   "metadata": {},
   "outputs": [
    {
     "data": {
      "text/plain": [
       "37"
      ]
     },
     "execution_count": 78,
     "metadata": {},
     "output_type": "execute_result"
    }
   ],
   "source": [
    "len(artigo.pages)"
   ]
  },
  {
   "cell_type": "code",
   "execution_count": 79,
   "metadata": {},
   "outputs": [],
   "source": [
    "# TODO melhorar isso aqui\n",
    "pagina = artigo.pages[35].extract_text() + artigo.pages[36].extract_text()"
   ]
  },
  {
   "cell_type": "code",
   "execution_count": 81,
   "metadata": {},
   "outputs": [],
   "source": [
    "def extrairReferencias(pagina :str) -> list:\n",
    "    referencias = pagina.split(' REFERÊNCIAS  \\n')[1]\n",
    "    referencias = referencias.split('.  \\n')\n",
    "\n",
    "    referencias = [referencia.replace('\\n', '') for referencia in referencias]\n",
    "    return referencias"
   ]
  },
  {
   "cell_type": "code",
   "execution_count": 82,
   "metadata": {},
   "outputs": [
    {
     "data": {
      "text/plain": [
       "['ARAÚJO , Flávio H. D. ; CARNEIRO , Allan C. ; SILVA , Romuere R. V. ; MEDEIROS , Fátima N. S. ; USHIZIMA , Daniela M.  Redes Neurais Convolucionais com Tensorﬂow: Teoria e Prática . III Escola Regional de Informática do Piauí. Livro Anais - Artigos e Minicursos, v. 1, n. 1,  p. 382 -406, jun, 2017.  Disponível em:  http://www.eripi.com.br/2017/images/anais/minicursos/7.pdf . Acesso em: 1 5 out. 2018',\n",
       " 'BARCA , Maria Carolina Stockler ; SILVEIRA , Tiago Redondo de Siqueira ; MAGINI , Marcio . TREINAMENTO DE REDES NEURAIS ARTIFICIAIS: O ALGORITMO  BACKPROPAGATION . In: IX Encontro Latino Americano de Iniciação Científica e V Encontro Latino Americano de Pós -graduação, Universidade do Vale do Paraíba. Vale do Paraíba: Univap; 200 5. p. 46-49. Disponível em:  http://www.inicepg.u nivap.br/cd/INIC_2005/inic/IC1%20anais/IC1 -17.pdf . Acesso em: 12 out. 2018',\n",
       " 'DPL, Deep Learning Book. Capítulo 23 – Como Funciona o Dropout? . Disponível em:  http://deeplearningbook.com.br/capitulo -23-como -funciona -o-dropout/ . Acesso em: 1 4 out. 2018',\n",
       " 'FACURE, Matheus. Funções de Ativação  - Entendendo a importância da ativação correta nas redes neurais , 2017 . Disponível em:  https://matheusfacure.github.io/2017/07/12/activ -func/ . Acesso em: 1 4 out. 2018',\n",
       " 'FERREIRA, A lessandro  dos Santos. Redes Neurais Conv olucionais Profundas na Detecção de Plantas Daninhas em Lavoura de Soja . Dissertação de  mestrado, Universidade Federal de Mato Grosso do Sul , 2017 . Disponível em: http://www.gpec.ucdb.br/pistori/orientacoes/dissertacoes/alessandro2017.pdf . Acesso em: 1 5 out. 2018',\n",
       " 'JIN, Lisheng ; XIAN , Huacai ; BIE, Jing; SUN , Yuqin ; HOU , Haijing ; NIU, Qingning . License plate recognition algorithm for passenger cars in chinese residential areas . Sensors (Basel), p. 8355 –8370, 2012. Disponível em : https://www.ncbi.nlm.nih.gov/pubmed/22969404 . Acesso em: 25 out . 2018',\n",
       " 'KARPATHY, A. CS231n Convolutional Neural Networks for Visual Recognition . Disponível em: http://cs231n.github.io/convolutional -networks/. Acesso em: 15 out. 2018',\n",
       " 'LECUN , Y.; BOTTOU , L.; BENGIO , Y.; HAFFNER , P. Gradient -based learning applied to document recognition . Proc. of the IEEE, nov.,. 1998. Disponível em: http://yann.lecun.com/exdb/publis/pdf/lecun -01a.pdf . Acesso em: 1 4 out. 2018',\n",
       " 'MCCAFFREY , James D.  Why You Should Us e Cross -Entropy Error Instead Of Classification Error Or Mean Squared Error For Neural Network Classifier Training . 2013. Disponível em:  https://jamesmccaffrey.wordpress.com/2013/11/05/why -you-should -use-cross -entropy -error -  37 instead -of-classification -error -or-mean -squared -error -for-neural -network -classifier -training/ . Acesso em: 12 out. 2018',\n",
       " 'MCCULLOCH, Warren S.; PITTS, W alter. A logical calculus of the ideas immanent in nervous activity . Bulletin of Mathematical Biophysics , Vol. 5, p. 115 -133, 1943. Disponível em: https://pdfs.semanticscholar.org/5272/8a99829792c3272043842455f3a110e841b1.pdf. Acesso em: 11 out. 2018',\n",
       " 'NASCIMENTO, E. O.; OLIVEIRA, L. N. Sensitivity Analysis of Cutting Force on Milling Process using Factorial Experimental Planning and Ne ural Networks. IEEE Latin America Transactions , vol. 14, n. 12, p. 4811 -4820, 2016. Disponível em:  https://www.researchgate.net/publication/312027170_Sensitivity_Analysis_of_Cutting_Force_on_Milling_Process_using_Factorial_Experimental_Planning_and_Artific ial_Neural_Networks. Acesso em: 1 2 out. 2018',\n",
       " 'PAPAGELIS, Anthony J.; KIM, Dong Soo. Backpropagation . Disponível em:  https://www.cse.unsw.edu.au/~cs9417ml/MLP2/BackPropagation.html. Acesso em: 1 3 out. 2018',\n",
       " 'QUEIROZ, Corina Jará de. Análise de Transformações Geométricas para o Georreferenciamento de Imagens do Satélite CBERS -I. Dissertação de Mestrado. UFRGS - CEPSRM, 2003. Disponível em: http://hdl.handle.net/10183/6349. Acesso em: 23 out. 2018',\n",
       " 'ROSENBLATT, F . The Perceptron: A Probabilistic Mo del For Information Storage And Organization In The Brain. Psychological Review , Vol. 65, Nº 6, p. 386 -408, 1958. Disponível em: http://citeseerx.ist.psu.edu/viewdoc/summary?doi=10.1.1.335.3398 . Acesso em: 11 out. 2018.  ']"
      ]
     },
     "execution_count": 82,
     "metadata": {},
     "output_type": "execute_result"
    }
   ],
   "source": [
    "extrairReferencias(pagina)"
   ]
  },
  {
   "attachments": {},
   "cell_type": "markdown",
   "metadata": {},
   "source": [
    "### Identificar objetivo"
   ]
  },
  {
   "cell_type": "code",
   "execution_count": null,
   "metadata": {},
   "outputs": [],
   "source": []
  },
  {
   "cell_type": "code",
   "execution_count": null,
   "metadata": {},
   "outputs": [],
   "source": []
  }
 ],
 "metadata": {
  "kernelspec": {
   "display_name": "base",
   "language": "python",
   "name": "python3"
  },
  "language_info": {
   "codemirror_mode": {
    "name": "ipython",
    "version": 3
   },
   "file_extension": ".py",
   "mimetype": "text/x-python",
   "name": "python",
   "nbconvert_exporter": "python",
   "pygments_lexer": "ipython3",
   "version": "3.10.9"
  },
  "orig_nbformat": 4,
  "vscode": {
   "interpreter": {
    "hash": "57e513fe18a804ff3cd60649239638e0ab0ce36b6125e67c2c7b9b2b4c9b822f"
   }
  }
 },
 "nbformat": 4,
 "nbformat_minor": 2
}
